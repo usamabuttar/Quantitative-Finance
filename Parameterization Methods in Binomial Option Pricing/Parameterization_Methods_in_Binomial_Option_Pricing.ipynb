{
 "cells": [
  {
   "cell_type": "markdown",
   "metadata": {},
   "source": [
    "## Introduction and Setup\n",
    "\n",
    "### Binomial Option Pricing Model\n",
    "The Binomial Option Pricing Model is a discrete-time framework for valuing options. It represents the price evolution of the underlying asset as a tree of possible values over time.\n",
    "\n",
    "Each node \\((i, j)\\) in the tree corresponds to:\n",
    "1. A specific time step \\(i\\).\n",
    "2. A potential price outcome \\(S_{i,j}\\).\n",
    "\n",
    "At each node, the option value depends on:\n",
    "1. The **payoff** at expiration.\n",
    "2. The discounted expected value of future payoffs.\n",
    "\n",
    "### Why Choosing Parameters is Important\n",
    "Different variations of the binomial model affect:\n",
    "1. The up (\\(u\\)) and down (\\(d\\)) movement factors.\n",
    "2. The probability of an upward movement (\\(q\\)).\n",
    "3. The convergence speed of the computed option price to the theoretical value (e.g., Black-Scholes).\n",
    "\n",
    "This notebook explores four popular parameterization methods:\n",
    "1. **Cox, Ross, and Rubinstein (CRR):** Uses equal jump sizes for up and down movements.\n",
    "2. **Jarrow and Rudd (JR):** Adjusts for a risk-neutral measure while maintaining equal probabilities.\n",
    "3. **Equal Probabilities (EQP):** Modifies up and down jumps for a logarithmic asset pricing tree.\n",
    "4. **Trigeorgis (TRG):** Ensures equal jump sizes under a logarithmic asset pricing tree.\n",
    "\n",
    "### Goal\n",
    "We aim to:\n",
    "1. Implement these parameterization methods.\n",
    "2. Compare their convergence characteristics against the Black-Scholes formula for pricing European Call options."
   ]
  },
  {
   "cell_type": "code",
   "execution_count": 1,
   "metadata": {},
   "outputs": [],
   "source": [
    "import numpy as np  # For numerical operations\n",
    "\n",
    "# Initialize parameters\n",
    "S0 = 100       # Initial stock price\n",
    "K = 110        # Strike price\n",
    "T = 0.5        # Time to maturity (in years)\n",
    "r = 0.06       # Annual risk-free rate\n",
    "N = 100        # Number of time steps\n",
    "sigma = 0.3    # Annualized stock price volatility\n",
    "opttype = 'C'  # Option type: 'C' for Call, 'P' for Put"
   ]
  },
  {
   "cell_type": "markdown",
   "metadata": {},
   "source": [
    "## Cox, Ross, and Rubinstein (CRR) Method\n",
    "\n",
    "### Overview\n",
    "The CRR method is a classic parameterization for the binomial model. It assumes:\n",
    "1. **Equal Jump Sizes:** The factors for up and down movements are inverses:\n",
    "   \\[\n",
    "   u = e^{\\sigma \\sqrt{\\Delta t}}, \\quad d = \\frac{1}{u}\n",
    "   \\]\n",
    "2. **Risk-Neutral Probabilities:** The probability of an upward movement is:\n",
    "   \\[\n",
    "   q = \\frac{e^{r \\Delta t} - d}{u - d}\n",
    "   \\]\n",
    "3. **Option Pricing:** The option price is calculated through backward induction.\n",
    "\n",
    "### Steps\n",
    "1. Compute \\(u\\), \\(d\\), and \\(q\\).\n",
    "2. Generate the stock price tree.\n",
    "3. Calculate the option payoff at maturity.\n",
    "4. Use backward induction to compute the option value at earlier nodes."
   ]
  },
  {
   "cell_type": "code",
   "execution_count": 2,
   "metadata": {},
   "outputs": [
    {
     "data": {
      "text/plain": [
       "5.77342630682585"
      ]
     },
     "execution_count": 2,
     "metadata": {},
     "output_type": "execute_result"
    }
   ],
   "source": [
    "def CRR_method(K, T, S0, r, N, sigma, opttype='C'):\n",
    "    # Precompute constants\n",
    "    dt = T / N  # Time step\n",
    "    u = np.exp(sigma * np.sqrt(dt))  # Up factor\n",
    "    d = 1 / u  # Down factor\n",
    "    q = (np.exp(r * dt) - d) / (u - d)  # Risk-neutral probability\n",
    "    disc = np.exp(-r * dt)  # Discount factor\n",
    "\n",
    "    # Initialize asset prices at maturity\n",
    "    S = np.zeros(N + 1)\n",
    "    S[0] = S0 * d**N  # Lowest price at maturity\n",
    "    for j in range(1, N + 1):\n",
    "        S[j] = S[j - 1] * u / d\n",
    "\n",
    "    # Initialize option values at maturity\n",
    "    C = np.zeros(N + 1)\n",
    "    for j in range(N + 1):\n",
    "        if opttype == 'C':\n",
    "            C[j] = max(0, S[j] - K)  # Call option payoff\n",
    "        else:\n",
    "            C[j] = max(0, K - S[j])  # Put option payoff\n",
    "\n",
    "    # Backward induction\n",
    "    for i in range(N - 1, -1, -1):\n",
    "        for j in range(i + 1):\n",
    "            C[j] = disc * (q * C[j + 1] + (1 - q) * C[j])\n",
    "    \n",
    "    return C[0]\n",
    "\n",
    "# Example usage\n",
    "CRR_method(K, T, S0, r, N, sigma, opttype='C')"
   ]
  },
  {
   "cell_type": "markdown",
   "metadata": {},
   "source": [
    "## Jarrow and Rudd (JR) Method\n",
    "\n",
    "### Overview\n",
    "The JR method modifies the CRR approach by introducing a drift adjustment (\\(\\nu\\)) for the risk-neutral measure:\n",
    "\\[\n",
    "\\nu = r - \\frac{\\sigma^2}{2}\n",
    "\\]\n",
    "Under the JR method:\n",
    "1. **Up and Down Factors:** These incorporate the drift:\n",
    "   \\[\n",
    "   u = e^{\\nu \\Delta t + \\sigma \\sqrt{\\Delta t}}, \\quad d = e^{\\nu \\Delta t - \\sigma \\sqrt{\\Delta t}}\n",
    "   \\]\n",
    "2. **Equal Probabilities:** The upward and downward probabilities are set to:\n",
    "   \\[\n",
    "   q = 0.5\n",
    "   \\]\n",
    "\n",
    "### Steps\n",
    "1. Compute \\(u\\), \\(d\\), and \\(q\\).\n",
    "2. Generate the stock price tree and option payoff at maturity.\n",
    "3. Use backward induction to calculate the option price."
   ]
  },
  {
   "cell_type": "code",
   "execution_count": 3,
   "metadata": {},
   "outputs": [
    {
     "data": {
      "text/plain": [
       "5.754089414567556"
      ]
     },
     "execution_count": 3,
     "metadata": {},
     "output_type": "execute_result"
    }
   ],
   "source": [
    "def JR_method(K, T, S0, r, N, sigma, opttype='C'):\n",
    "    # Precompute constants\n",
    "    dt = T / N\n",
    "    nu = r - 0.5 * sigma**2  # Drift adjustment\n",
    "    u = np.exp(nu * dt + sigma * np.sqrt(dt))  # Up factor\n",
    "    d = np.exp(nu * dt - sigma * np.sqrt(dt))  # Down factor\n",
    "    q = 0.5  # Equal probabilities\n",
    "    disc = np.exp(-r * dt)  # Discount factor\n",
    "\n",
    "    # Initialize asset prices at maturity\n",
    "    S = np.zeros(N + 1)\n",
    "    S[0] = S0 * d**N\n",
    "    for j in range(1, N + 1):\n",
    "        S[j] = S[j - 1] * u / d\n",
    "\n",
    "    # Initialize option values at maturity\n",
    "    C = np.zeros(N + 1)\n",
    "    for j in range(N + 1):\n",
    "        if opttype == 'C':\n",
    "            C[j] = max(0, S[j] - K)\n",
    "        else:\n",
    "            C[j] = max(0, K - S[j])\n",
    "\n",
    "    # Backward induction\n",
    "    for i in range(N - 1, -1, -1):\n",
    "        for j in range(i + 1):\n",
    "            C[j] = disc * (q * C[j + 1] + (1 - q) * C[j])\n",
    "    \n",
    "    return C[0]\n",
    "\n",
    "# Example usage\n",
    "JR_method(K, T, S0, r, N, sigma, opttype='C')"
   ]
  },
  {
   "cell_type": "markdown",
   "metadata": {},
   "source": [
    "## Equal Probabilities (EQP) Method\n",
    "\n",
    "### Overview\n",
    "The EQP method focuses on equal risk-neutral probabilities (\\(q = 0.5\\)) while adjusting the up and down factors (\\(dx_u, dx_d\\)) for a logarithmic asset pricing tree. It incorporates both drift and volatility into these factors:\n",
    "\\[\n",
    "dx_u = 0.5 \\nu \\Delta t + 0.5 \\sqrt{4 \\sigma^2 \\Delta t - 3 \\nu^2 \\Delta t^2}\n",
    "\\]\n",
    "\\[\n",
    "dx_d = 1.5 \\nu \\Delta t - 0.5 \\sqrt{4 \\sigma^2 \\Delta t - 3 \\nu^2 \\Delta t^2}\n",
    "\\]\n",
    "\n",
    "Where:\n",
    "- \\(\\nu = r - \\frac{\\sigma^2}{2}\\): Drift adjustment.\n",
    "- \\(dx_u\\) and \\(dx_d\\) define the multiplicative factors for up and down movements in the logarithmic price space.\n",
    "\n",
    "### Key Characteristics\n",
    "1. **Stock Prices:** Adjusted for logarithmic movements:\n",
    "   \\[\n",
    "   S_{i,j} = S_0 \\exp(j \\cdot dx_u + (i-j) \\cdot dx_d)\n",
    "   \\]\n",
    "2. **Option Pricing:** Backward induction is performed with equal probabilities:\n",
    "   \\[\n",
    "   q = p_u = 0.5, \\quad p_d = 1 - q\n",
    "   \\]"
   ]
  },
  {
   "cell_type": "code",
   "execution_count": 4,
   "metadata": {},
   "outputs": [
    {
     "data": {
      "text/plain": [
       "5.7365844788666545"
      ]
     },
     "execution_count": 4,
     "metadata": {},
     "output_type": "execute_result"
    }
   ],
   "source": [
    "def EQP_method(K, T, S0, r, N, sigma, opttype='C'):\n",
    "    # Precompute constants\n",
    "    dt = T / N\n",
    "    nu = r - 0.5 * sigma**2\n",
    "    dxu = 0.5 * nu * dt + 0.5 * np.sqrt(4 * sigma**2 * dt - 3 * nu**2 * dt**2)\n",
    "    dxd = 1.5 * nu * dt - 0.5 * np.sqrt(4 * sigma**2 * dt - 3 * nu**2 * dt**2)\n",
    "    pu = 0.5  # Equal probabilities\n",
    "    pd = 1 - pu\n",
    "    disc = np.exp(-r * dt)\n",
    "\n",
    "    # Initialize asset prices at maturity\n",
    "    S = np.zeros(N + 1)\n",
    "    S[0] = S0 * np.exp(N * dxd)\n",
    "    for j in range(1, N + 1):\n",
    "        S[j] = S[j - 1] * np.exp(dxu - dxd)\n",
    "\n",
    "    # Initialize option values at maturity\n",
    "    C = np.zeros(N + 1)\n",
    "    for j in range(N + 1):\n",
    "        if opttype == 'C':\n",
    "            C[j] = max(0, S[j] - K)\n",
    "        else:\n",
    "            C[j] = max(0, K - S[j])\n",
    "\n",
    "    # Backward induction\n",
    "    for i in range(N - 1, -1, -1):\n",
    "        for j in range(i + 1):\n",
    "            C[j] = disc * (pu * C[j + 1] + pd * C[j])\n",
    "    \n",
    "    return C[0]\n",
    "\n",
    "# Example usage\n",
    "EQP_method(K, T, S0, r, N, sigma, opttype='C')"
   ]
  },
  {
   "cell_type": "markdown",
   "metadata": {},
   "source": [
    "## Trigeorgis (TRG) Method\n",
    "\n",
    "### Overview\n",
    "The TRG method ensures **equal jump sizes** under a logarithmic asset pricing tree while accounting for drift (\\(\\nu\\)) and volatility (\\(\\sigma\\)):\n",
    "\\[\n",
    "dx_u = \\sqrt{\\sigma^2 \\Delta t + \\nu^2 \\Delta t^2}, \\quad dx_d = -dx_u\n",
    "\\]\n",
    "\n",
    "The probabilities for upward and downward movements are:\n",
    "\\[\n",
    "p_u = 0.5 + 0.5 \\frac{\\nu \\Delta t}{dx_u}, \\quad p_d = 1 - p_u\n",
    "\\]\n",
    "\n",
    "### Key Characteristics\n",
    "1. **Stock Prices:** Adjusted for logarithmic jumps:\n",
    "   \\[\n",
    "   S_{i,j} = S_0 \\exp(j \\cdot dx_u + (i-j) \\cdot dx_d)\n",
    "   \\]\n",
    "2. **Option Pricing:** Similar to other methods, backward induction is applied using the computed probabilities \\(p_u\\) and \\(p_d\\)."
   ]
  },
  {
   "cell_type": "code",
   "execution_count": 5,
   "metadata": {},
   "outputs": [
    {
     "data": {
      "text/plain": [
       "5.773359020180677"
      ]
     },
     "execution_count": 5,
     "metadata": {},
     "output_type": "execute_result"
    }
   ],
   "source": [
    "def TRG_method(K, T, S0, r, N, sigma, opttype='C'):\n",
    "    # Precompute constants\n",
    "    dt = T / N\n",
    "    nu = r - 0.5 * sigma**2\n",
    "    dxu = np.sqrt(sigma**2 * dt + nu**2 * dt**2)\n",
    "    dxd = -dxu\n",
    "    pu = 0.5 + 0.5 * nu * dt / dxu\n",
    "    pd = 1 - pu\n",
    "    disc = np.exp(-r * dt)\n",
    "\n",
    "    # Initialize asset prices at maturity\n",
    "    S = np.zeros(N + 1)\n",
    "    S[0] = S0 * np.exp(N * dxd)\n",
    "    for j in range(1, N + 1):\n",
    "        S[j] = S[j - 1] * np.exp(dxu - dxd)\n",
    "\n",
    "    # Initialize option values at maturity\n",
    "    C = np.zeros(N + 1)\n",
    "    for j in range(N + 1):\n",
    "        if opttype == 'C':\n",
    "            C[j] = max(0, S[j] - K)\n",
    "        else:\n",
    "            C[j] = max(0, K - S[j])\n",
    "\n",
    "    # Backward induction\n",
    "    for i in range(N - 1, -1, -1):\n",
    "        for j in range(i + 1):\n",
    "            C[j] = disc * (pu * C[j + 1] + pd * C[j])\n",
    "    \n",
    "    return C[0]\n",
    "\n",
    "# Example usage\n",
    "TRG_method(K, T, S0, r, N, sigma, opttype='C')"
   ]
  },
  {
   "cell_type": "markdown",
   "metadata": {},
   "source": [
    "## Comparison of Methods\n",
    "\n",
    "### Objective\n",
    "Evaluate the convergence of each parameterization method as the number of time steps (\\(N\\)) increases. The benchmark is the **Black-Scholes formula** for pricing European Call options.\n",
    "\n",
    "### Methodology\n",
    "1. Compute the option price for each method (\\(CRR\\), \\(JR\\), \\(EQP\\), \\(TRG\\)) over a range of \\(N\\).\n",
    "2. Compare against the theoretical Black-Scholes price.\n",
    "\n",
    "### Visualization\n",
    "- Plot the computed prices for each method.\n",
    "- Highlight how quickly each method converges to the Black-Scholes price."
   ]
  },
  {
   "cell_type": "code",
   "execution_count": 13,
   "metadata": {},
   "outputs": [
    {
     "data": {
      "image/png": "[encoded data removed]",
      "text/plain": [
       "<Figure size 640x480 with 1 Axes>"
      ]
     },
     "metadata": {},
     "output_type": "display_data"
    }
   ],
   "source": [
    "from py_vollib.black_scholes import black_scholes as bs\n",
    "import matplotlib.pyplot as plt\n",
    "\n",
    "plt.style.use('ggplot')\n",
    "\n",
    "# Compute option prices for different time steps\n",
    "CRR, JR, EQP, TRG = [], [], [], []\n",
    "periods = range(10, 500, 10)\n",
    "\n",
    "for N in periods:\n",
    "    CRR.append(CRR_method(K, T, S0, r, N, sigma, opttype='C'))\n",
    "    JR.append(JR_method(K, T, S0, r, N, sigma, opttype='C'))\n",
    "    EQP.append(EQP_method(K, T, S0, r, N, sigma, opttype='C'))\n",
    "    TRG.append(TRG_method(K, T, S0, r, N, sigma, opttype='C'))\n",
    "\n",
    "# Black-Scholes price\n",
    "BS = [bs('c', S0, K, T, r, sigma) for _ in periods]\n",
    "\n",
    "# Plot results\n",
    "plt.plot(periods, CRR, label='Cox-Ross-Rubinstein')\n",
    "plt.plot(periods, JR, label='Jarrow-Rudd')\n",
    "plt.plot(periods, EQP, label='EQP')\n",
    "plt.plot(periods, TRG, label='Trigeorgis', linestyle='--', color='r')\n",
    "plt.plot(periods, BS, label='Black-Scholes', linestyle='-', color='k')\n",
    "plt.legend(loc='upper right')\n",
    "plt.xlabel('Number of Time Steps (N)')\n",
    "plt.ylabel('Option Price')\n",
    "plt.title('Convergence of Binomial Methods to Black-Scholes')\n",
    "plt.show()"
   ]
  }
 ],
 "metadata": {
  "kernelspec": {
   "display_name": "Python 3 (ipykernel)",
   "language": "python",
   "name": "python3"
  },
  "language_info": {
   "codemirror_mode": {
    "name": "ipython",
    "version": 3
   },
   "file_extension": ".py",
   "mimetype": "text/x-python",
   "name": "python",
   "nbconvert_exporter": "python",
   "pygments_lexer": "ipython3",
   "version": "3.12.7"
  }
 },
 "nbformat": 4,
 "nbformat_minor": 4
}
