{
 "cells": [
  {
   "cell_type": "markdown",
   "metadata": {},
   "source": [
    "## Introduction and Setup\n",
    "\n",
    "The Binomial Option Pricing Model is a method to evaluate options by modeling the possible price paths of the underlying asset over time. It uses a discrete-time framework with \"up\" and \"down\" movements defined at each time step.\n",
    "\n",
    "### Key Components:\n",
    "- **Binomial Tree Representation:** Each node represents a potential price.\n",
    "- **Timing Wrapper:** A utility to measure the execution time of different implementations.\n",
    "\n",
    "We'll start by importing necessary libraries and defining a timing utility function."
   ]
  },
  {
   "cell_type": "code",
   "execution_count": 1,
   "metadata": {},
   "outputs": [],
   "source": [
    "import numpy as np  # For numerical operations\n",
    "from functools import wraps  # To preserve metadata of decorated functions\n",
    "from time import time  # For performance measurement\n",
    "\n",
    "# A decorator to measure the execution time of functions\n",
    "def timing(f):\n",
    "    @wraps(f)\n",
    "    def wrap(*args, **kw):\n",
    "        ts = time()\n",
    "        result = f(*args, **kw)\n",
    "        te = time()\n",
    "        print(f'func:{f.__name__} args:[{args}, {kw}] took: {te - ts:.4f} sec')\n",
    "        return result\n",
    "    return wrap"
   ]
  },
  {
   "cell_type": "markdown",
   "metadata": {},
   "source": [
    "## Model Parameters\n",
    "\n",
    "### Parameters Explained:\n",
    "- `S0`: Initial stock price.\n",
    "- `K`: Strike price of the option.\n",
    "- `T`: Time to maturity in years.\n",
    "- `r`: Annual risk-free rate.\n",
    "- `N`: Number of time steps in the binomial tree.\n",
    "- `u`: \"Up\" factor representing the proportionate increase in price.\n",
    "- `d`: \"Down\" factor, typically `1/u` to ensure a recombining tree.\n",
    "- `opttype`: Type of option ('C' for Call, 'P' for Put).\n",
    "\n",
    "These parameters will be shared across both implementations."
   ]
  },
  {
   "cell_type": "code",
   "execution_count": 2,
   "metadata": {},
   "outputs": [],
   "source": [
    "# Initialize model parameters\n",
    "S0 = 100  # Initial stock price\n",
    "K = 100   # Strike price\n",
    "T = 1     # Time to maturity (in years)\n",
    "r = 0.06  # Annual risk-free rate\n",
    "N = 3     # Number of time steps\n",
    "u = 1.1   # Up factor\n",
    "d = 1/u   # Down factor, ensuring a recombining tree\n",
    "opttype = 'C'  # Option type: 'C' for Call, 'P' for Put"
   ]
  },
  {
   "cell_type": "markdown",
   "metadata": {},
   "source": [
    "## Binomial Tree: Slow Implementation\n",
    "\n",
    "The slow implementation iterates over nodes explicitly using loops.\n",
    "\n",
    "### Steps:\n",
    "1. **Precompute Constants:**\n",
    "   - `dt`: Duration of a single time step.\n",
    "   - `q`: Risk-neutral probability of an upward price movement.\n",
    "   - `disc`: Discount factor for time step.\n",
    "\n",
    "2. **Initialize Stock Prices at Maturity:**\n",
    "   - Use the formula \\( S_{i,j} = S_0 \\cdot u^j \\cdot d^{i-j} \\).\n",
    "\n",
    "3. **Compute Option Values at Maturity:**\n",
    "   - For a European call, \\( C_{N,j} = \\max(S_{N,j} - K, 0) \\).\n",
    "\n",
    "4. **Step Backward Through the Tree:**\n",
    "   - Use the risk-neutral valuation formula.\n",
    "   - Compute option prices at earlier nodes from terminal values."
   ]
  },
  {
   "cell_type": "code",
   "execution_count": 3,
   "metadata": {},
   "outputs": [
    {
     "name": "stdout",
     "output_type": "stream",
     "text": [
      "func:binomial_tree_slow args:[(100, 1, 100, 0.06, 3, 1.1, 0.9090909090909091), {'opttype': 'C'}] took: 0.0001 sec\n"
     ]
    },
    {
     "data": {
      "text/plain": [
       "10.145735799928817"
      ]
     },
     "execution_count": 3,
     "metadata": {},
     "output_type": "execute_result"
    }
   ],
   "source": [
    "@timing\n",
    "def binomial_tree_slow(K, T, S0, r, N, u, d, opttype='C'):\n",
    "    # Precompute constants\n",
    "    dt = T / N  # Time step duration\n",
    "    q = (np.exp(r * dt) - d) / (u - d)  # Risk-neutral probability\n",
    "    disc = np.exp(-r * dt)  # Discount factor\n",
    "    \n",
    "    # Initialize stock prices at maturity (time step N)\n",
    "    S = np.zeros(N + 1)\n",
    "    S[0] = S0 * d**N  # Lowest price at maturity\n",
    "    for j in range(1, N + 1):\n",
    "        S[j] = S[j - 1] * u / d  # Increment upward in the tree\n",
    "\n",
    "    # Initialize option values at maturity\n",
    "    C = np.zeros(N + 1)\n",
    "    for j in range(N + 1):\n",
    "        C[j] = max(0, S[j] - K)  # Payoff for European call option\n",
    "    \n",
    "    # Step backward through the tree\n",
    "    for i in range(N, 0, -1):  # Start from last step\n",
    "        for j in range(i):\n",
    "            C[j] = disc * (q * C[j + 1] + (1 - q) * C[j])  # Risk-neutral valuation\n",
    "\n",
    "    return C[0]  # Option price at the root node\n",
    "\n",
    "# Example usage\n",
    "binomial_tree_slow(K, T, S0, r, N, u, d, opttype='C')"
   ]
  },
  {
   "cell_type": "markdown",
   "metadata": {},
   "source": [
    "## Binomial Tree: Fast Implementation\n",
    "\n",
    "The fast implementation optimizes calculations by vectorizing operations using NumPy.\n",
    "\n",
    "### Key Differences from the Slow Implementation:\n",
    "1. **Vectorized Initialization:**\n",
    "   - Directly calculate stock prices at maturity using array operations.\n",
    "   - Use NumPy's `arange` to generate indices for \"up\" and \"down\" movements.\n",
    "2. **Backward Propagation:**\n",
    "   - Replace inner loops with array slicing for efficient calculations.\n",
    "\n",
    "This approach significantly reduces computational overhead, especially for larger time steps."
   ]
  },
  {
   "cell_type": "code",
   "execution_count": 4,
   "metadata": {},
   "outputs": [
    {
     "name": "stdout",
     "output_type": "stream",
     "text": [
      "func:binomial_tree_fast args:[(100, 1, 100, 0.06, 3, 1.1, 0.9090909090909091), {'opttype': 'C'}] took: 0.0007 sec\n"
     ]
    },
    {
     "data": {
      "text/plain": [
       "10.145735799928826"
      ]
     },
     "execution_count": 4,
     "metadata": {},
     "output_type": "execute_result"
    }
   ],
   "source": [
    "@timing\n",
    "def binomial_tree_fast(K, T, S0, r, N, u, d, opttype='C'):\n",
    "    # Precompute constants\n",
    "    dt = T / N  # Time step duration\n",
    "    q = (np.exp(r * dt) - d) / (u - d)  # Risk-neutral probability\n",
    "    disc = np.exp(-r * dt)  # Discount factor\n",
    "\n",
    "    # Initialize stock prices at maturity (vectorized)\n",
    "    S = S0 * d ** np.arange(N, -1, -1) * u ** np.arange(0, N + 1, 1)\n",
    "\n",
    "    # Initialize option values at maturity\n",
    "    C = np.maximum(S - K, 0)  # Payoff for European call option\n",
    "\n",
    "    # Step backward through the tree\n",
    "    for i in range(N, 0, -1):\n",
    "        C = disc * (q * C[1:i + 1] + (1 - q) * C[0:i])  # Vectorized valuation\n",
    "\n",
    "    return C[0]  # Option price at the root node\n",
    "\n",
    "# Example usage\n",
    "binomial_tree_fast(K, T, S0, r, N, u, d, opttype='C')"
   ]
  },
  {
   "cell_type": "markdown",
   "metadata": {},
   "source": [
    "## Comparison: Slow vs. Fast Implementation\n",
    "\n",
    "### Objective:\n",
    "Evaluate the runtime performance of both implementations across various tree sizes.\n",
    "\n",
    "### Test Setup:\n",
    "- Use different numbers of time steps (`N`) to observe how execution time scales.\n",
    "- Compare the runtimes of `binomial_tree_slow` and `binomial_tree_fast`.\n",
    "\n",
    "### Results:\n",
    "The vectorized implementation is consistently faster, particularly as `N` increases. This demonstrates the efficiency of NumPy in handling large-scale computations."
   ]
  },
  {
   "cell_type": "code",
   "execution_count": 5,
   "metadata": {},
   "outputs": [
    {
     "name": "stdout",
     "output_type": "stream",
     "text": [
      "\n",
      "Time Steps: 3\n",
      "func:binomial_tree_slow args:[(100, 1, 100, 0.06, 3, 1.1, 0.9090909090909091), {'opttype': 'C'}] took: 0.0001 sec\n",
      "func:binomial_tree_fast args:[(100, 1, 100, 0.06, 3, 1.1, 0.9090909090909091), {'opttype': 'C'}] took: 0.0001 sec\n",
      "\n",
      "Time Steps: 50\n",
      "func:binomial_tree_slow args:[(100, 1, 100, 0.06, 50, 1.1, 0.9090909090909091), {'opttype': 'C'}] took: 0.0013 sec\n",
      "func:binomial_tree_fast args:[(100, 1, 100, 0.06, 50, 1.1, 0.9090909090909091), {'opttype': 'C'}] took: 0.0006 sec\n",
      "\n",
      "Time Steps: 100\n",
      "func:binomial_tree_slow args:[(100, 1, 100, 0.06, 100, 1.1, 0.9090909090909091), {'opttype': 'C'}] took: 0.0069 sec\n",
      "func:binomial_tree_fast args:[(100, 1, 100, 0.06, 100, 1.1, 0.9090909090909091), {'opttype': 'C'}] took: 0.0062 sec\n",
      "\n",
      "Time Steps: 1000\n",
      "func:binomial_tree_slow args:[(100, 1, 100, 0.06, 1000, 1.1, 0.9090909090909091), {'opttype': 'C'}] took: 0.6002 sec\n",
      "func:binomial_tree_fast args:[(100, 1, 100, 0.06, 1000, 1.1, 0.9090909090909091), {'opttype': 'C'}] took: 0.0082 sec\n",
      "\n",
      "Time Steps: 5000\n",
      "func:binomial_tree_slow args:[(100, 1, 100, 0.06, 5000, 1.1, 0.9090909090909091), {'opttype': 'C'}] took: 11.1670 sec\n",
      "func:binomial_tree_fast args:[(100, 1, 100, 0.06, 5000, 1.1, 0.9090909090909091), {'opttype': 'C'}] took: 0.0541 sec\n"
     ]
    }
   ],
   "source": [
    "# Test and compare runtime for different tree sizes\n",
    "for N in [3, 50, 100, 1000, 5000]:\n",
    "    print(f\"\\nTime Steps: {N}\")\n",
    "    binomial_tree_slow(K, T, S0, r, N, u, d, opttype='C')\n",
    "    binomial_tree_fast(K, T, S0, r, N, u, d, opttype='C')"
   ]
  },
  {
   "cell_type": "markdown",
   "metadata": {},
   "source": [
    "## Conclusion\n",
    "\n",
    "The Binomial Option Pricing Model provides a versatile framework for pricing options through a discrete-time approximation.\n",
    "\n",
    "### Key Takeaways:\n",
    "1. **Accuracy:**\n",
    "   - Both implementations yield identical results for the option price.\n",
    "\n",
    "2. **Performance:**\n",
    "   - The vectorized approach (`binomial_tree_fast`) is significantly faster, especially as the number of time steps increases.\n",
    "\n",
    "3. **Scalability:**\n",
    "   - For large-scale problems, leveraging NumPy or similar libraries is essential to achieve efficient computation.\n",
    "\n",
    "This project highlights the importance of optimization in numerical methods and serves as a foundational step toward more advanced option pricing models."
   ]
  }
 ],
 "metadata": {
  "kernelspec": {
   "display_name": "Python 3 (ipykernel)",
   "language": "python",
   "name": "python3"
  },
  "language_info": {
   "codemirror_mode": {
    "name": "ipython",
    "version": 3
   },
   "file_extension": ".py",
   "mimetype": "text/x-python",
   "name": "python",
   "nbconvert_exporter": "python",
   "pygments_lexer": "ipython3",
   "version": "3.12.7"
  }
 },
 "nbformat": 4,
 "nbformat_minor": 4
}
