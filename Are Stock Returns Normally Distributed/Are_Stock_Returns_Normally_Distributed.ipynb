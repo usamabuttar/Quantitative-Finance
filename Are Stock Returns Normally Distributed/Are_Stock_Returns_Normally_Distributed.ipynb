{
 "cells": [
  {
   "cell_type": "markdown",
   "metadata": {
    "id": "rpprkw5Lqn7H"
   },
   "source": [
    "# Are Stock Returns Normally Distributed?\n",
    "- Simple vs Log Returns\n",
    "- Normality Assumptions\n",
    "\n",
    "In this notebook we try to understand the difference between simple returns and log returns.\n",
    "\n",
    "\n",
    "We also talk about normality of financial data!"
   ]
  },
  {
   "cell_type": "markdown",
   "metadata": {
    "id": "jrOW0lQhqn7I"
   },
   "source": [
    "## THE MAIN REASON\n",
    "\n",
    "### If we want to model returns using the normal distribution!\n",
    "\n",
    "- SIMPLE RETURNS: The product of normally distributed variables is NOT normally distributed\n",
    "\n",
    "- LOG RETURNS: The sum of normally distributed variables DOES follow a normal distribution\n",
    "\n",
    "Also the log distribution bounds our stock price at 0. Which is a nice property to have and is consistent with reality."
   ]
  },
  {
   "cell_type": "markdown",
   "metadata": {
    "id": "4QPbpEQMqn7J"
   },
   "source": [
    "#### Step 1: Import dependencies"
   ]
  },
  {
   "cell_type": "code",
   "execution_count": 1,
   "metadata": {
    "colab": {
     "base_uri": "https://localhost:8080/",
     "height": 17
    },
    "executionInfo": {
     "elapsed": 1127,
     "status": "ok",
     "timestamp": 1650457295481,
     "user": {
      "displayName": "Jonathon Emerick",
      "userId": "16629380951441395759"
     },
     "user_tz": -600
    },
    "id": "ampeEFJZqn7J",
    "outputId": "f634e0bb-54f4-47da-c9a1-a31d78ba6ddf"
   },
   "outputs": [],
   "source": [
    "import numpy as np\n",
    "import pandas as pd\n",
    "import seaborn as sns\n",
    "import yfinance as yf\n",
    "import datetime as dt\n",
    "import scipy.stats as stats\n",
    "import matplotlib.pyplot as plt\n",
    "\n",
    "import warnings\n",
    "warnings.simplefilter(action='ignore', category=FutureWarning)\n",
    "\n",
    "plt.style.use('ggplot')"
   ]
  },
  {
   "cell_type": "markdown",
   "metadata": {
    "id": "ZnoortTDqn7K"
   },
   "source": [
    "#### Step 2: get stock market data\n",
    "Choose a date range and select stock to chart."
   ]
  },
  {
   "cell_type": "code",
   "execution_count": 2,
   "metadata": {
    "colab": {
     "base_uri": "https://localhost:8080/",
     "height": 238
    },
    "executionInfo": {
     "elapsed": 1226,
     "status": "ok",
     "timestamp": 1650457313492,
     "user": {
      "displayName": "Jonathon Emerick",
      "userId": "16629380951441395759"
     },
     "user_tz": -600
    },
    "id": "RoaxKxfEqn7K",
    "outputId": "0b91929a-aaf9-4bf9-ee77-b0a15909badd"
   },
   "outputs": [
    {
     "name": "stderr",
     "output_type": "stream",
     "text": [
      "[*********************100%***********************]  1 of 1 completed\n"
     ]
    },
    {
     "data": {
      "text/html": [
       "<div>\n",
       "<style scoped>\n",
       "    .dataframe tbody tr th:only-of-type {\n",
       "        vertical-align: middle;\n",
       "    }\n",
       "\n",
       "    .dataframe tbody tr th {\n",
       "        vertical-align: top;\n",
       "    }\n",
       "\n",
       "    .dataframe thead th {\n",
       "        text-align: right;\n",
       "    }\n",
       "</style>\n",
       "<table border=\"1\" class=\"dataframe\">\n",
       "  <thead>\n",
       "    <tr style=\"text-align: right;\">\n",
       "      <th>Price</th>\n",
       "      <th>Adj Close</th>\n",
       "      <th>Close</th>\n",
       "      <th>High</th>\n",
       "      <th>Low</th>\n",
       "      <th>Open</th>\n",
       "      <th>Volume</th>\n",
       "    </tr>\n",
       "    <tr>\n",
       "      <th>Date</th>\n",
       "      <th></th>\n",
       "      <th></th>\n",
       "      <th></th>\n",
       "      <th></th>\n",
       "      <th></th>\n",
       "      <th></th>\n",
       "    </tr>\n",
       "  </thead>\n",
       "  <tbody>\n",
       "    <tr>\n",
       "      <th>2023-11-24</th>\n",
       "      <td>449.225311</td>\n",
       "      <td>455.299988</td>\n",
       "      <td>455.500000</td>\n",
       "      <td>454.730011</td>\n",
       "      <td>455.070007</td>\n",
       "      <td>29737400</td>\n",
       "    </tr>\n",
       "    <tr>\n",
       "      <th>2023-11-27</th>\n",
       "      <td>448.416321</td>\n",
       "      <td>454.480011</td>\n",
       "      <td>455.489990</td>\n",
       "      <td>454.079987</td>\n",
       "      <td>454.649994</td>\n",
       "      <td>50506000</td>\n",
       "    </tr>\n",
       "    <tr>\n",
       "      <th>2023-11-28</th>\n",
       "      <td>448.860260</td>\n",
       "      <td>454.929993</td>\n",
       "      <td>456.269989</td>\n",
       "      <td>453.500000</td>\n",
       "      <td>454.079987</td>\n",
       "      <td>62115000</td>\n",
       "    </tr>\n",
       "    <tr>\n",
       "      <th>2023-11-29</th>\n",
       "      <td>448.544525</td>\n",
       "      <td>454.609985</td>\n",
       "      <td>458.320007</td>\n",
       "      <td>454.200012</td>\n",
       "      <td>457.149994</td>\n",
       "      <td>63146000</td>\n",
       "    </tr>\n",
       "    <tr>\n",
       "      <th>2023-11-30</th>\n",
       "      <td>450.310638</td>\n",
       "      <td>456.399994</td>\n",
       "      <td>456.760010</td>\n",
       "      <td>453.339996</td>\n",
       "      <td>455.480011</td>\n",
       "      <td>79752700</td>\n",
       "    </tr>\n",
       "    <tr>\n",
       "      <th>...</th>\n",
       "      <td>...</td>\n",
       "      <td>...</td>\n",
       "      <td>...</td>\n",
       "      <td>...</td>\n",
       "      <td>...</td>\n",
       "      <td>...</td>\n",
       "    </tr>\n",
       "    <tr>\n",
       "      <th>2024-11-18</th>\n",
       "      <td>588.150024</td>\n",
       "      <td>588.150024</td>\n",
       "      <td>589.489990</td>\n",
       "      <td>585.340027</td>\n",
       "      <td>586.219971</td>\n",
       "      <td>37084100</td>\n",
       "    </tr>\n",
       "    <tr>\n",
       "      <th>2024-11-19</th>\n",
       "      <td>590.299988</td>\n",
       "      <td>590.299988</td>\n",
       "      <td>591.039978</td>\n",
       "      <td>584.030029</td>\n",
       "      <td>584.710022</td>\n",
       "      <td>49412000</td>\n",
       "    </tr>\n",
       "    <tr>\n",
       "      <th>2024-11-20</th>\n",
       "      <td>590.500000</td>\n",
       "      <td>590.500000</td>\n",
       "      <td>590.789978</td>\n",
       "      <td>584.630005</td>\n",
       "      <td>590.380005</td>\n",
       "      <td>50032600</td>\n",
       "    </tr>\n",
       "    <tr>\n",
       "      <th>2024-11-21</th>\n",
       "      <td>593.669983</td>\n",
       "      <td>593.669983</td>\n",
       "      <td>595.119995</td>\n",
       "      <td>587.450012</td>\n",
       "      <td>593.400024</td>\n",
       "      <td>46750300</td>\n",
       "    </tr>\n",
       "    <tr>\n",
       "      <th>2024-11-22</th>\n",
       "      <td>595.510010</td>\n",
       "      <td>595.510010</td>\n",
       "      <td>596.150024</td>\n",
       "      <td>593.150024</td>\n",
       "      <td>593.659973</td>\n",
       "      <td>38092800</td>\n",
       "    </tr>\n",
       "  </tbody>\n",
       "</table>\n",
       "<p>252 rows × 6 columns</p>\n",
       "</div>"
      ],
      "text/plain": [
       "Price        Adj Close       Close        High         Low        Open  \\\n",
       "Date                                                                     \n",
       "2023-11-24  449.225311  455.299988  455.500000  454.730011  455.070007   \n",
       "2023-11-27  448.416321  454.480011  455.489990  454.079987  454.649994   \n",
       "2023-11-28  448.860260  454.929993  456.269989  453.500000  454.079987   \n",
       "2023-11-29  448.544525  454.609985  458.320007  454.200012  457.149994   \n",
       "2023-11-30  450.310638  456.399994  456.760010  453.339996  455.480011   \n",
       "...                ...         ...         ...         ...         ...   \n",
       "2024-11-18  588.150024  588.150024  589.489990  585.340027  586.219971   \n",
       "2024-11-19  590.299988  590.299988  591.039978  584.030029  584.710022   \n",
       "2024-11-20  590.500000  590.500000  590.789978  584.630005  590.380005   \n",
       "2024-11-21  593.669983  593.669983  595.119995  587.450012  593.400024   \n",
       "2024-11-22  595.510010  595.510010  596.150024  593.150024  593.659973   \n",
       "\n",
       "Price         Volume  \n",
       "Date                  \n",
       "2023-11-24  29737400  \n",
       "2023-11-27  50506000  \n",
       "2023-11-28  62115000  \n",
       "2023-11-29  63146000  \n",
       "2023-11-30  79752700  \n",
       "...              ...  \n",
       "2024-11-18  37084100  \n",
       "2024-11-19  49412000  \n",
       "2024-11-20  50032600  \n",
       "2024-11-21  46750300  \n",
       "2024-11-22  38092800  \n",
       "\n",
       "[252 rows x 6 columns]"
      ]
     },
     "execution_count": 2,
     "metadata": {},
     "output_type": "execute_result"
    }
   ],
   "source": [
    "df = yf.download('SPY', period=\"1y\")\n",
    "df.columns = df.columns.droplevel(1)\n",
    "df"
   ]
  },
  {
   "cell_type": "markdown",
   "metadata": {
    "id": "huMNIj-5qn7K"
   },
   "source": [
    "### Part 1: Simple vs Log Returns\n",
    "\n",
    "Firstly one period simple returns\n",
    "\n",
    "$R_t = \\frac{P_t - P_{t-1}}{P_{t-1}} = \\frac{P_t}{P_{t-1}} - 1$\n",
    "\n",
    "$1 + R_t = \\frac{P_t}{P_{t-1}}$\n",
    "\n",
    "Calculate Daily Simple Returns"
   ]
  },
  {
   "cell_type": "code",
   "execution_count": 3,
   "metadata": {
    "colab": {
     "base_uri": "https://localhost:8080/"
    },
    "executionInfo": {
     "elapsed": 3,
     "status": "ok",
     "timestamp": 1650457315460,
     "user": {
      "displayName": "Jonathon Emerick",
      "userId": "16629380951441395759"
     },
     "user_tz": -600
    },
    "id": "Ny7OqZENqn7L",
    "outputId": "b88f55d5-6bf5-49a7-96e2-fdd4c0624722"
   },
   "outputs": [
    {
     "data": {
      "text/plain": [
       "Date\n",
       "2023-11-27   -0.001801\n",
       "2023-11-28    0.000990\n",
       "2023-11-29   -0.000703\n",
       "2023-11-30    0.003937\n",
       "2023-12-01    0.005916\n",
       "                ...   \n",
       "2024-11-18    0.004097\n",
       "2024-11-19    0.003655\n",
       "2024-11-20    0.000339\n",
       "2024-11-21    0.005368\n",
       "2024-11-22    0.003099\n",
       "Name: Close, Length: 251, dtype: float64"
      ]
     },
     "execution_count": 3,
     "metadata": {},
     "output_type": "execute_result"
    }
   ],
   "source": [
    "simple_returns = df.Close.pct_change().dropna()\n",
    "simple_returns"
   ]
  },
  {
   "cell_type": "markdown",
   "metadata": {
    "id": "aMxLUE9vqn7L"
   },
   "source": [
    "For multi-period k returns\n",
    "\n",
    "$1 + R_t(k) = \\frac{P_t}{P_{t-1}}\\frac{P_{t-1}}{P_{t-2}}...\\frac{P_{t-k+1}}{P_{t-k}} = \\frac{P_t}{P_{t-k}}$\n",
    "\n",
    "$1 + R_t(k) = (1 + R_t)(1 + R_{t-1})...(1 + R_{t-k+1})$\n",
    "\n",
    "$1 + R_t(k) = \\prod_{i=0}^{k-1} (1 + R_{t-i})$\n",
    "\n",
    "Plot financial data and look at first and last share prices"
   ]
  },
  {
   "cell_type": "code",
   "execution_count": 4,
   "metadata": {
    "colab": {
     "base_uri": "https://localhost:8080/",
     "height": 317
    },
    "executionInfo": {
     "elapsed": 4120,
     "status": "ok",
     "timestamp": 1650457327266,
     "user": {
      "displayName": "Jonathon Emerick",
      "userId": "16629380951441395759"
     },
     "user_tz": -600
    },
    "id": "dvPuOBrSqn7L",
    "outputId": "a167a813-7bc4-47c6-ffe6-567f9ba4d743"
   },
   "outputs": [
    {
     "data": {
      "image/png": "[encoded data removed]",
      "text/plain": [
       "<Figure size 640x480 with 1 Axes>"
      ]
     },
     "metadata": {},
     "output_type": "display_data"
    }
   ],
   "source": [
    "# Plot the 'Close' price from the DataFrame\n",
    "plt.plot(df.index, df['Close'], label='SPY')\n",
    "\n",
    "# Add title and labels\n",
    "plt.title('Close Price over Time')\n",
    "plt.xlabel('Date')\n",
    "plt.ylabel('Price ($/share)')\n",
    "plt.legend()\n",
    "plt.show()"
   ]
  },
  {
   "cell_type": "code",
   "execution_count": 5,
   "metadata": {
    "colab": {
     "base_uri": "https://localhost:8080/"
    },
    "executionInfo": {
     "elapsed": 10,
     "status": "ok",
     "timestamp": 1650457327267,
     "user": {
      "displayName": "Jonathon Emerick",
      "userId": "16629380951441395759"
     },
     "user_tz": -600
    },
    "id": "xjop6W6Vqn7L",
    "outputId": "0c944ee2-0815-4953-b8d8-c7add87d6573"
   },
   "outputs": [
    {
     "name": "stdout",
     "output_type": "stream",
     "text": [
      "First 455.29998779296875 Last 595.510009765625\n"
     ]
    }
   ],
   "source": [
    "print('First', df.Close[0], 'Last', df.Close[-1])"
   ]
  },
  {
   "cell_type": "markdown",
   "metadata": {
    "id": "o2RdolnSqn7L"
   },
   "source": [
    "Use simple returns & attempt to compute final price from starting price over time horizon"
   ]
  },
  {
   "cell_type": "code",
   "execution_count": 6,
   "metadata": {
    "colab": {
     "base_uri": "https://localhost:8080/"
    },
    "executionInfo": {
     "elapsed": 3,
     "status": "ok",
     "timestamp": 1650457331677,
     "user": {
      "displayName": "Jonathon Emerick",
      "userId": "16629380951441395759"
     },
     "user_tz": -600
    },
    "id": "9fI1qgLAqn7M",
    "outputId": "5dc40799-7ee3-452d-e7b7-77031e0c2939"
   },
   "outputs": [
    {
     "data": {
      "text/plain": [
       "0.0010996974515766283"
      ]
     },
     "execution_count": 6,
     "metadata": {},
     "output_type": "execute_result"
    }
   ],
   "source": [
    "simple_returns.mean()"
   ]
  },
  {
   "cell_type": "code",
   "execution_count": 7,
   "metadata": {
    "colab": {
     "base_uri": "https://localhost:8080/"
    },
    "executionInfo": {
     "elapsed": 4,
     "status": "ok",
     "timestamp": 1650457334421,
     "user": {
      "displayName": "Jonathon Emerick",
      "userId": "16629380951441395759"
     },
     "user_tz": -600
    },
    "id": "S2ja35JLqn7M",
    "outputId": "a5a3d53d-2e0a-48b5-bbd0-2382d7786760"
   },
   "outputs": [
    {
     "data": {
      "text/plain": [
       "599.9395592594118"
      ]
     },
     "execution_count": 7,
     "metadata": {},
     "output_type": "execute_result"
    }
   ],
   "source": [
    "df.Close[0]*(1+simple_returns.mean())**len(simple_returns)"
   ]
  },
  {
   "cell_type": "code",
   "execution_count": 8,
   "metadata": {
    "colab": {
     "base_uri": "https://localhost:8080/"
    },
    "executionInfo": {
     "elapsed": 5,
     "status": "ok",
     "timestamp": 1650457337354,
     "user": {
      "displayName": "Jonathon Emerick",
      "userId": "16629380951441395759"
     },
     "user_tz": -600
    },
    "id": "8PImoIRRqn7M",
    "outputId": "6068980a-4923-4a5f-96e1-34f7680649d4"
   },
   "outputs": [
    {
     "data": {
      "text/plain": [
       "595.510009765624"
      ]
     },
     "execution_count": 8,
     "metadata": {},
     "output_type": "execute_result"
    }
   ],
   "source": [
    "df.Close[0]*np.prod([(1+Rt) for Rt in simple_returns])"
   ]
  },
  {
   "cell_type": "markdown",
   "metadata": {
    "id": "eU10Asgpqn7M"
   },
   "source": [
    "#### Log Returns\n",
    "\n",
    "Now onto one period log returns:\n",
    "\n",
    "$r_t = \\ln(1+R_t)$\n",
    "\n",
    "K-period log returns:\n",
    "\n",
    "$r_t(k) = \\ln(1+R_t(k)) = \\ln[(1+R_t)(1+R_{t-1})...(1+R_{t-k+1})]$\n",
    "\n",
    "$r_t(k) = \\ln(1+R_t(k)) = \\ln(1+R_t) + \\ln(1+R_{t-1}) + ... + \\ln(1+R_{t-k+1})$\n",
    "\n",
    "$r_t(k) = \\ln(1+R_t(k)) = r_t + r_{t-1} + ... + r_{t-k+1} = \\ln(P_t) - \\ln(P_{t-k})$\n",
    "\n",
    "Compute log returns in python"
   ]
  },
  {
   "cell_type": "code",
   "execution_count": 9,
   "metadata": {
    "colab": {
     "base_uri": "https://localhost:8080/"
    },
    "executionInfo": {
     "elapsed": 319,
     "status": "ok",
     "timestamp": 1650457359059,
     "user": {
      "displayName": "Jonathon Emerick",
      "userId": "16629380951441395759"
     },
     "user_tz": -600
    },
    "id": "sierzvsbqn7M",
    "outputId": "8a752ae3-404c-4f25-f31c-4d46a5cb824f"
   },
   "outputs": [
    {
     "data": {
      "text/plain": [
       "Date\n",
       "2023-11-27   -0.001803\n",
       "2023-11-28    0.000990\n",
       "2023-11-29   -0.000704\n",
       "2023-11-30    0.003930\n",
       "2023-12-01    0.005898\n",
       "                ...   \n",
       "2024-11-18    0.004089\n",
       "2024-11-19    0.003649\n",
       "2024-11-20    0.000339\n",
       "2024-11-21    0.005354\n",
       "2024-11-22    0.003095\n",
       "Name: Close, Length: 251, dtype: float64"
      ]
     },
     "execution_count": 9,
     "metadata": {},
     "output_type": "execute_result"
    }
   ],
   "source": [
    "log_returns = np.log(df.Close / df.Close.shift(1)).dropna()\n",
    "log_returns"
   ]
  },
  {
   "cell_type": "code",
   "execution_count": 10,
   "metadata": {
    "colab": {
     "base_uri": "https://localhost:8080/"
    },
    "executionInfo": {
     "elapsed": 3,
     "status": "ok",
     "timestamp": 1650457361450,
     "user": {
      "displayName": "Jonathon Emerick",
      "userId": "16629380951441395759"
     },
     "user_tz": -600
    },
    "id": "11XSQUxEqn7M",
    "outputId": "6a582caa-5a60-4ca5-b364-b28d8ec54503"
   },
   "outputs": [
    {
     "data": {
      "text/plain": [
       "0.0010695684547195024"
      ]
     },
     "execution_count": 10,
     "metadata": {},
     "output_type": "execute_result"
    }
   ],
   "source": [
    "log_returns.mean()"
   ]
  },
  {
   "cell_type": "code",
   "execution_count": 11,
   "metadata": {
    "colab": {
     "base_uri": "https://localhost:8080/"
    },
    "executionInfo": {
     "elapsed": 282,
     "status": "ok",
     "timestamp": 1650457363477,
     "user": {
      "displayName": "Jonathon Emerick",
      "userId": "16629380951441395759"
     },
     "user_tz": -600
    },
    "id": "3eVjuBwnqn7N",
    "outputId": "98a540d9-1f19-401f-b2ee-dbb074e9954e"
   },
   "outputs": [
    {
     "data": {
      "text/plain": [
       "595.510009765624"
      ]
     },
     "execution_count": 11,
     "metadata": {},
     "output_type": "execute_result"
    }
   ],
   "source": [
    "df.Close[0] * np.exp(len(log_returns) * log_returns.mean())"
   ]
  },
  {
   "cell_type": "markdown",
   "metadata": {
    "id": "JigAOvk_qn7N"
   },
   "source": [
    "## AGAIN, THE MAIN REASON\n",
    "\n",
    "### If we want to model returns using the normal distribution!\n",
    "\n",
    "- SIMPLE RETURNS: The product of normally distribution variables is NOT normally distributed\n",
    "\n",
    "- LOG RETURNS: The sum of normally distributed variables follows a normal distribution\n",
    "\n",
    "Also the log distribution bounds our stock price at 0. Which is a nice property to have and is consistent with reality."
   ]
  },
  {
   "cell_type": "markdown",
   "metadata": {
    "id": "SttZL4hPqn7N"
   },
   "source": [
    "#### Histogram of log returns"
   ]
  },
  {
   "cell_type": "code",
   "execution_count": 12,
   "metadata": {
    "colab": {
     "base_uri": "https://localhost:8080/",
     "height": 317
    },
    "executionInfo": {
     "elapsed": 349,
     "status": "ok",
     "timestamp": 1644884469967,
     "user": {
      "displayName": "Jonathon Emerick",
      "photoUrl": "https://lh3.googleusercontent.com/a-/AOh14Giq9xEw4DhtJYHMD-QFk9rivPfE8jUcWMAkBjHx=s64",
      "userId": "16629380951441395759"
     },
     "user_tz": -600
    },
    "id": "auQrroOMqn7N",
    "outputId": "651e7991-1e9a-46cd-cbb9-b52661627737"
   },
   "outputs": [
    {
     "data": {
      "image/png": "[encoded data removed]",
      "text/plain": [
       "<Figure size 640x480 with 1 Axes>"
      ]
     },
     "metadata": {},
     "output_type": "display_data"
    }
   ],
   "source": [
    "# Plot histogram of log_returns\n",
    "plt.hist(log_returns, bins=30, edgecolor='black')  # You can adjust the number of bins\n",
    "\n",
    "# Add title and labels\n",
    "plt.title('Histogram of Log Returns')\n",
    "plt.xlabel('Log Returns')\n",
    "plt.ylabel('Frequency')\n",
    "\n",
    "# Display the plot\n",
    "plt.tight_layout()  # Adjust layout to avoid clipping\n",
    "plt.show()\n"
   ]
  },
  {
   "cell_type": "markdown",
   "metadata": {
    "id": "qYJwUoh_qn7N"
   },
   "source": [
    "### Is normality a good assumption for financial data?\n",
    "\n",
    "The assumption that prices or more accurately log returns are normally distributed!"
   ]
  },
  {
   "cell_type": "code",
   "execution_count": 13,
   "metadata": {
    "colab": {
     "base_uri": "https://localhost:8080/"
    },
    "executionInfo": {
     "elapsed": 302,
     "status": "ok",
     "timestamp": 1644884472858,
     "user": {
      "displayName": "Jonathon Emerick",
      "photoUrl": "https://lh3.googleusercontent.com/a-/AOh14Giq9xEw4DhtJYHMD-QFk9rivPfE8jUcWMAkBjHx=s64",
      "userId": "16629380951441395759"
     },
     "user_tz": -600
    },
    "id": "ReXmbBo7qn7O",
    "outputId": "54cc7926-26d5-483d-9b3d-fd0b28f722f5"
   },
   "outputs": [
    {
     "name": "stdout",
     "output_type": "stream",
     "text": [
      "Assuming price is normally distributed: \n",
      " Standard dev. worst -3.98 and best 3.05\n",
      " Probability of worst 0.0001476611787 and best 0.0038175596431\n"
     ]
    }
   ],
   "source": [
    "log_returns_sorted = log_returns.tolist()\n",
    "log_returns_sorted.sort()\n",
    "worst = log_returns_sorted[0]\n",
    "best = log_returns_sorted[-1]\n",
    "\n",
    "std_worst = (worst - log_returns.mean())/log_returns.std()\n",
    "std_best = (best - log_returns.mean())/log_returns.std()\n",
    "print('Assuming price is normally distributed: ')\n",
    "print(' Standard dev. worst %.2f and best %.2f' %(std_worst, std_best))\n",
    "print(' Probability of worst %.13f and best %.13f' %(stats.norm(0, 1).pdf(std_worst), stats.norm(0, 1).pdf(std_best)))"
   ]
  },
  {
   "cell_type": "markdown",
   "metadata": {
    "id": "cwHYtOeMqn7O"
   },
   "source": [
    "### Part 2: Testing for Normality\n",
    "https://towardsdatascience.com/normality-tests-in-python-31e04aa4f411"
   ]
  },
  {
   "cell_type": "markdown",
   "metadata": {
    "id": "sNfkCLgLqn7O"
   },
   "source": [
    "#### Q-Q or Quantile-Quantile Plots\n",
    "It plots two sets of quantiles against one another i.e. theoretical quantiles against the actual quantiles of the variable."
   ]
  },
  {
   "cell_type": "code",
   "execution_count": 14,
   "metadata": {
    "colab": {
     "base_uri": "https://localhost:8080/",
     "height": 312
    },
    "executionInfo": {
     "elapsed": 281,
     "status": "ok",
     "timestamp": 1644884479159,
     "user": {
      "displayName": "Jonathon Emerick",
      "photoUrl": "https://lh3.googleusercontent.com/a-/AOh14Giq9xEw4DhtJYHMD-QFk9rivPfE8jUcWMAkBjHx=s64",
      "userId": "16629380951441395759"
     },
     "user_tz": -600
    },
    "id": "sNRuYD_Rqn7O",
    "outputId": "b80b4c5d-84d8-4c81-fc33-e1723370bb7d"
   },
   "outputs": [
    {
     "data": {
      "image/png": "[encoded data removed]",
      "text/plain": [
       "<Figure size 640x480 with 1 Axes>"
      ]
     },
     "metadata": {},
     "output_type": "display_data"
    }
   ],
   "source": [
    "# Create a Q-Q plot for log_returns against a normal distribution\n",
    "# plt.figure(figsize=(5, 3))  # Equivalent to width=500, height=300 in Plotly\n",
    "stats.probplot(log_returns, dist=\"norm\", plot=plt)\n",
    "\n",
    "# Add a title\n",
    "plt.title('Q-Q Plot of Log Returns')\n",
    "\n",
    "# Display the plot\n",
    "plt.tight_layout()  # Adjust layout to avoid clipping\n",
    "plt.show()"
   ]
  },
  {
   "cell_type": "markdown",
   "metadata": {
    "id": "PoQAsFzNqn7O"
   },
   "source": [
    "#### Box Plots\n",
    "Box Plot also know as a box and whisker plot is another way to visualize the normality of a variable. It displays the distribution of data based on a five-number summary i.e. minimum, first quartile (Q1), median (Q2), third quartile (Q3) and maximum."
   ]
  },
  {
   "cell_type": "code",
   "execution_count": 15,
   "metadata": {
    "colab": {
     "base_uri": "https://localhost:8080/",
     "height": 517
    },
    "executionInfo": {
     "elapsed": 359,
     "status": "ok",
     "timestamp": 1644884504205,
     "user": {
      "displayName": "Jonathon Emerick",
      "photoUrl": "https://lh3.googleusercontent.com/a-/AOh14Giq9xEw4DhtJYHMD-QFk9rivPfE8jUcWMAkBjHx=s64",
      "userId": "16629380951441395759"
     },
     "user_tz": -600
    },
    "id": "XLHQt6Hpqn7O",
    "outputId": "ebe11c46-a68e-40a6-856b-3884dae2d2d3"
   },
   "outputs": [
    {
     "data": {
      "image/png": "[encoded data removed]",
      "text/plain": [
       "<Figure size 640x480 with 1 Axes>"
      ]
     },
     "metadata": {},
     "output_type": "display_data"
    }
   ],
   "source": [
    "# Create a box plot for log_returns\n",
    "plt.boxplot(log_returns)\n",
    "\n",
    "# Add title and labels\n",
    "plt.title('Box Plot of Log Returns')\n",
    "plt.ylabel('Log Returns')\n",
    "\n",
    "# Display the plot\n",
    "plt.tight_layout()  # Adjust layout to avoid clipping\n",
    "plt.show()"
   ]
  },
  {
   "cell_type": "markdown",
   "metadata": {
    "id": "_dVhcMfsqn7P"
   },
   "source": [
    "## Hypothesis Testing / Statistical Inference ?\n",
    "\n",
    "Why would you do it - Can give a more objective answer!"
   ]
  },
  {
   "cell_type": "markdown",
   "metadata": {
    "id": "cSz0Uxvvqn7P"
   },
   "source": [
    "#### Kolmogorov Smirnov test\n",
    "\n",
    "The Kolmogorov Smirnov test computes the distances between the empirical distribution and the theoretical distribution and defines the test statistic as the supremum of the set of those distances.\n",
    "\n",
    "The Test Statistic of the KS Test is the Kolmogorov Smirnov Statistic, which follows a Kolmogorov distribution if the null hypothesis is true.\n",
    "If the observed data perfectly follow a normal distribution, the value of the KS statistic will be 0. The P-Value is used to decide whether the difference is large enough to reject the null hypothesis:\n",
    "\n",
    "The advantage of this is that the same approach can be used for comparing any distribution, not necessary the normal distribution only.\n",
    "\n",
    "- Do not forget to assign arguments mean and standard deviation! (this was reminded by a subscriber - thanks)"
   ]
  },
  {
   "cell_type": "code",
   "execution_count": 16,
   "metadata": {
    "colab": {
     "base_uri": "https://localhost:8080/"
    },
    "executionInfo": {
     "elapsed": 273,
     "status": "ok",
     "timestamp": 1644884659181,
     "user": {
      "displayName": "Jonathon Emerick",
      "photoUrl": "https://lh3.googleusercontent.com/a-/AOh14Giq9xEw4DhtJYHMD-QFk9rivPfE8jUcWMAkBjHx=s64",
      "userId": "16629380951441395759"
     },
     "user_tz": -600
    },
    "id": "ob0iE5Pxqn7P",
    "outputId": "dedf55ce-2609-4ed7-f225-70e26e09ccb7"
   },
   "outputs": [
    {
     "name": "stdout",
     "output_type": "stream",
     "text": [
      "0.07231209326309784 0.13791180356527832\n",
      "Probably Gaussian\n"
     ]
    }
   ],
   "source": [
    "ks_statistic, p_value = stats.kstest(log_returns, 'norm', args = (log_returns.mean(), log_returns.std()))\n",
    "print(ks_statistic, p_value)\n",
    "if p_value > 0.05:\n",
    "    print('Probably Gaussian')\n",
    "else:\n",
    "    print('Probably not Gaussian')"
   ]
  },
  {
   "cell_type": "markdown",
   "metadata": {
    "id": "mNUg3fRtqn7P"
   },
   "source": [
    "#### Shapiro Wilk test\n",
    "The Shapiro Wilk test is the most powerful test when testing for a normal distribution. It has been developed specifically for the normal distribution and it cannot be used for testing against other distributions like for example the KS test."
   ]
  },
  {
   "cell_type": "code",
   "execution_count": 17,
   "metadata": {
    "colab": {
     "base_uri": "https://localhost:8080/"
    },
    "executionInfo": {
     "elapsed": 298,
     "status": "ok",
     "timestamp": 1644884528158,
     "user": {
      "displayName": "Jonathon Emerick",
      "photoUrl": "https://lh3.googleusercontent.com/a-/AOh14Giq9xEw4DhtJYHMD-QFk9rivPfE8jUcWMAkBjHx=s64",
      "userId": "16629380951441395759"
     },
     "user_tz": -600
    },
    "id": "Yt2-sS6_qn7P",
    "outputId": "a3d51a2e-9ea6-436e-97cb-2f5609853438"
   },
   "outputs": [
    {
     "name": "stdout",
     "output_type": "stream",
     "text": [
      "stat=0.977, p=0.000\n",
      "Probably Gaussian\n"
     ]
    }
   ],
   "source": [
    "sw_stat, p = stats.shapiro(log_returns)\n",
    "print('stat=%.3f, p=%.3f' % (sw_stat, p))\n",
    "if p_value > 0.05:\n",
    "    print('Probably Gaussian')\n",
    "else:\n",
    "    print('Probably not Gaussian')"
   ]
  }
 ],
 "metadata": {
  "colab": {
   "provenance": [],
   "toc_visible": true
  },
  "kernelspec": {
   "display_name": "base",
   "language": "python",
   "name": "python3"
  },
  "language_info": {
   "codemirror_mode": {
    "name": "ipython",
    "version": 3
   },
   "file_extension": ".py",
   "mimetype": "text/x-python",
   "name": "python",
   "nbconvert_exporter": "python",
   "pygments_lexer": "ipython3",
   "version": "3.12.7"
  }
 },
 "nbformat": 4,
 "nbformat_minor": 0
}
