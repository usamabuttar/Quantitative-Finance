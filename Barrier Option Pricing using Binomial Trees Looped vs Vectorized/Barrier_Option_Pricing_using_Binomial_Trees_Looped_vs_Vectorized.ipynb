{
 "cells": [
  {
   "cell_type": "markdown",
   "metadata": {},
   "source": [
    "## Introduction and Setup\n",
    "\n",
    "Barrier options are a type of path-dependent options, where the payoff depends not only on the final price of the underlying asset but also on whether the asset price crosses a specified barrier during the life of the option.\n",
    "\n",
    "### Types of Barrier Options:\n",
    "1. **Knock-In Options:** Become active only if the underlying asset's price breaches the barrier.\n",
    "2. **Knock-Out Options:** Expire worthless if the underlying price breaches the barrier.\n",
    "\n",
    "In this project, we focus on **Knock-Out Options**, specifically the **Up-and-Out Call Option**, which:\n",
    "- Becomes worthless if the asset price rises above a certain barrier level (`H`) during the option's life.\n",
    "- Pays \\( \\max(S - K, 0) \\) at maturity, provided the barrier has not been breached.\n",
    "\n",
    "### Pricing Approach:\n",
    "We use the **Binomial Tree Method**, which:\n",
    "1. Represents price movements over time as a tree structure.\n",
    "2. Models upward and downward movements using fixed factors (`u` and `d`).\n",
    "3. Incorporates the barrier condition:\n",
    "   - If the price crosses the barrier, the option value at that node is set to zero.\n",
    "4. Uses backward induction to calculate option prices at earlier nodes based on future values.\n",
    "\n",
    "### Binomial Tree Representation\n",
    "The binomial tree represents the evolution of stock prices using nodes \\((i, j)\\), where:\n",
    "- \\(i\\) is the time step.\n",
    "- \\(j\\) is the ordered price outcome (from lowest to highest).\n",
    "\n",
    "The stock price at each node is computed as:\n",
    "\\[\n",
    "S_{i,j} = S_0 u^j d^{i-j}\n",
    "\\]\n",
    "\n",
    "The option value at each node \\((i, j)\\) is denoted as \\(C_{i,j}\\). At maturity (\\(i = N\\)), the final payoff function is defined, and the tree is traversed backward to compute prices at earlier nodes.\n",
    "\n",
    "### Barrier Option Characteristics\n",
    "For an **Up-and-Out Barrier Put Option**:\n",
    "1. At maturity (\\(T = t_N\\)), the terminal payoff is:\n",
    "\\[\n",
    "C^{j}_N = \\max(K - S^{j}_N, 0) \\cdot \\mathbb{1}(S^{j}_N < H)\n",
    "\\]\n",
    "   - Here, \\(H\\) is the barrier, and \\(\\mathbb{1}(S^{j}_N < H)\\) is the indicator function, which is 1 if \\(S^{j}_N < H\\) and 0 otherwise.\n",
    "\n",
    "2. For nodes earlier in the tree (\\(i < N\\)):\n",
    "   - If the price breaches the barrier (\\(S^{j}_i \\geq H\\)):\n",
    "\\[\n",
    "C^{j}_i = 0\n",
    "\\]\n",
    "   - Otherwise, the option value is computed using the risk-neutral valuation formula:\n",
    "\\[\n",
    "C^{j}_i = e^{-r \\Delta T} \\left[q C^{j+1}_{i+1} + (1-q) C^{j}_{i+1}\\right]\n",
    "\\]\n",
    "\\[\n",
    "q = \\text{Risk-neutral probability of an upward movement}\n",
    "\\]\n",
    "\n",
    "This mathematical foundation ensures accurate pricing of barrier options while incorporating their path-dependent nature.\n",
    "\n",
    "### Implementation Goals:\n",
    "- Compare two methods for pricing:\n",
    "  1. **Loop-based approach:** Iterates over nodes explicitly.\n",
    "  2. **Vectorized approach:** Uses NumPy for efficient computation.\n",
    "- Demonstrate the significant performance advantage of vectorized operations."
   ]
  },
  {
   "cell_type": "code",
   "execution_count": 1,
   "metadata": {},
   "outputs": [],
   "source": [
    "import numpy as np  # For numerical operations\n",
    "from functools import wraps  # To preserve metadata of decorated functions\n",
    "from time import time  # For performance measurement\n",
    "\n",
    "# A decorator to measure the execution time of functions\n",
    "def timing(f):\n",
    "    @wraps(f)\n",
    "    def wrap(*args, **kw):\n",
    "        ts = time()\n",
    "        result = f(*args, **kw)\n",
    "        te = time()\n",
    "        print(f'func:{f.__name__} args:[{args}, {kw}] took: {te - ts:.4f} sec')\n",
    "        return result\n",
    "    return wrap"
   ]
  },
  {
   "cell_type": "markdown",
   "metadata": {},
   "source": [
    "## Model Parameters\n",
    "\n",
    "### Parameters Explained:\n",
    "- `S0`: Initial stock price.\n",
    "- `K`: Strike price of the option.\n",
    "- `T`: Time to maturity in years.\n",
    "- `H`: Barrier price (e.g., for an up-and-out option).\n",
    "- `r`: Annual risk-free rate.\n",
    "- `N`: Number of time steps in the binomial tree.\n",
    "- `u`: \"Up\" factor representing the proportionate increase in price.\n",
    "- `d`: \"Down\" factor, typically `1/u` for a recombining tree.\n",
    "- `opttype`: Type of option ('C' for Call, 'P' for Put).\n",
    "\n",
    "These parameters define the barrier option and are used across both implementations."
   ]
  },
  {
   "cell_type": "code",
   "execution_count": 2,
   "metadata": {},
   "outputs": [],
   "source": [
    "# Initialize model parameters\n",
    "S0 = 100  # Initial stock price\n",
    "K = 100   # Strike price\n",
    "T = 1     # Time to maturity (in years)\n",
    "H = 125   # Barrier price (e.g., for up-and-out)\n",
    "r = 0.06  # Annual risk-free rate\n",
    "N = 3     # Number of time steps\n",
    "u = 1.1   # Up factor\n",
    "d = 1/u   # Down factor, ensuring a recombining tree\n",
    "opttype = 'C'  # Option type: 'C' for Call, 'P' for Put"
   ]
  },
  {
   "cell_type": "markdown",
   "metadata": {},
   "source": [
    "## Barrier Tree: Slow Implementation\n",
    "\n",
    "The slow implementation uses nested loops to compute option prices.\n",
    "\n",
    "### Steps:\n",
    "1. **Precompute Constants:**\n",
    "   - `dt`: Duration of each time step.\n",
    "   - `q`: Risk-neutral probability of an upward price movement.\n",
    "   - `disc`: Discount factor for time step.\n",
    "\n",
    "2. **Initialize Asset Prices at Maturity:**\n",
    "   - Use the formula \\( S_{i,j} = S_0 \\cdot u^j \\cdot d^{i-j} \\).\n",
    "\n",
    "3. **Compute Option Payoff:**\n",
    "   - Apply the barrier condition (set payoff to zero if the barrier is breached).\n",
    "   - Calculate the payoff for call or put options.\n",
    "\n",
    "4. **Backward Recursion:**\n",
    "   - Traverse the tree backward, updating option values at each node."
   ]
  },
  {
   "cell_type": "code",
   "execution_count": 3,
   "metadata": {},
   "outputs": [
    {
     "name": "stdout",
     "output_type": "stream",
     "text": [
      "func:barrier_tree_slow args:[(100, 1, 100, 125, 0.06, 3, 1.1, 0.9090909090909091), {'opttype': 'C'}] took: 0.0002 sec\n"
     ]
    },
    {
     "data": {
      "text/plain": [
       "4.00026736854323"
      ]
     },
     "execution_count": 3,
     "metadata": {},
     "output_type": "execute_result"
    }
   ],
   "source": [
    "@timing\n",
    "def barrier_tree_slow(K, T, S0, H, r, N, u, d, opttype='C'):\n",
    "    # Precompute constants\n",
    "    dt = T / N\n",
    "    q = (np.exp(r * dt) - d) / (u - d)\n",
    "    disc = np.exp(-r * dt)\n",
    "\n",
    "    # Initialize asset prices at maturity\n",
    "    S = np.zeros(N + 1)\n",
    "    for j in range(N + 1):\n",
    "        S[j] = S0 * u**j * d**(N - j)\n",
    "\n",
    "    # Compute option payoff\n",
    "    C = np.zeros(N + 1)\n",
    "    for j in range(N + 1):\n",
    "        if opttype == 'C':\n",
    "            C[j] = max(0, S[j] - K)  # Call option\n",
    "        else:\n",
    "            C[j] = max(0, K - S[j])  # Put option\n",
    "\n",
    "    # Apply barrier condition at maturity\n",
    "    for j in range(N + 1):\n",
    "        if S[j] >= H:  # Up-and-out condition\n",
    "            C[j] = 0\n",
    "\n",
    "    # Backward recursion\n",
    "    for i in range(N - 1, -1, -1):\n",
    "        for j in range(i + 1):\n",
    "            S[j] = S0 * u**j * d**(i - j)  # Price at node (i, j)\n",
    "            if S[j] >= H:\n",
    "                C[j] = 0  # Barrier condition\n",
    "            else:\n",
    "                C[j] = disc * (q * C[j + 1] + (1 - q) * C[j])\n",
    "    return C[0]\n",
    "\n",
    "# Example usage\n",
    "barrier_tree_slow(K, T, S0, H, r, N, u, d, opttype='C')"
   ]
  },
  {
   "cell_type": "markdown",
   "metadata": {},
   "source": [
    "## Barrier Tree: Fast Implementation\n",
    "\n",
    "The fast implementation improves performance by vectorizing operations with NumPy.\n",
    "\n",
    "### Key Differences from the Slow Implementation:\n",
    "1. **Vectorized Initialization:**\n",
    "   - Calculate asset prices at maturity using array operations instead of loops.\n",
    "2. **Barrier Check:**\n",
    "   - Use array indexing to efficiently apply the barrier condition.\n",
    "3. **Backward Recursion:**\n",
    "   - Replace nested loops with vectorized calculations to propagate values through the tree.\n",
    "\n",
    "This approach is significantly faster, particularly for larger tree sizes."
   ]
  },
  {
   "cell_type": "code",
   "execution_count": 4,
   "metadata": {},
   "outputs": [
    {
     "name": "stdout",
     "output_type": "stream",
     "text": [
      "func:barrier_tree_fast args:[(100, 1, 100, 125, 0.06, 3, 1.1, 0.9090909090909091), {'opttype': 'C'}] took: 0.0009 sec\n"
     ]
    },
    {
     "data": {
      "text/plain": [
       "4.00026736854323"
      ]
     },
     "execution_count": 4,
     "metadata": {},
     "output_type": "execute_result"
    }
   ],
   "source": [
    "@timing\n",
    "def barrier_tree_fast(K, T, S0, H, r, N, u, d, opttype='C'):\n",
    "    # Precompute constants\n",
    "    dt = T / N\n",
    "    q = (np.exp(r * dt) - d) / (u - d)\n",
    "    disc = np.exp(-r * dt)\n",
    "\n",
    "    # Initialize asset prices at maturity (vectorized)\n",
    "    S = S0 * d ** np.arange(N, -1, -1) * u ** np.arange(0, N + 1)\n",
    "\n",
    "    # Compute option payoff (vectorized)\n",
    "    if opttype == 'C':\n",
    "        C = np.maximum(S - K, 0)  # Call option\n",
    "    else:\n",
    "        C = np.maximum(K - S, 0)  # Put option\n",
    "\n",
    "    # Apply barrier condition at maturity\n",
    "    C[S >= H] = 0  # Up-and-out condition\n",
    "\n",
    "    # Backward recursion\n",
    "    for i in range(N - 1, -1, -1):\n",
    "        S = S0 * d ** np.arange(i, -1, -1) * u ** np.arange(0, i + 1)\n",
    "        C[:i + 1] = disc * (q * C[1:i + 2] + (1 - q) * C[0:i + 1])\n",
    "        C = C[:-1]  # Trim array for the next iteration\n",
    "        C[S >= H] = 0  # Apply barrier condition\n",
    "    return C[0]\n",
    "\n",
    "# Example usage\n",
    "barrier_tree_fast(K, T, S0, H, r, N, u, d, opttype='C')"
   ]
  },
  {
   "cell_type": "markdown",
   "metadata": {},
   "source": [
    "## Comparison: Slow vs. Fast Implementation\n",
    "\n",
    "### Objective:\n",
    "Evaluate the runtime performance of the slow and fast implementations across different tree sizes.\n",
    "\n",
    "### Test Setup:\n",
    "- Use various numbers of time steps (`N`) to observe how execution time scales with complexity.\n",
    "- Compare the runtimes of `barrier_tree_slow` and `barrier_tree_fast`.\n",
    "\n",
    "### Results:\n",
    "- The vectorized implementation (`barrier_tree_fast`) consistently outperforms the loop-based version.\n",
    "- As the number of time steps increases, the performance gap widens significantly.\n",
    "\n",
    "The results highlight the importance of vectorization for large-scale computations."
   ]
  },
  {
   "cell_type": "code",
   "execution_count": 5,
   "metadata": {},
   "outputs": [
    {
     "name": "stdout",
     "output_type": "stream",
     "text": [
      "\n",
      "Time Steps: 3\n",
      "func:barrier_tree_slow args:[(100, 1, 100, 125, 0.06, 3, 1.1, 0.9090909090909091), {'opttype': 'C'}] took: 0.0003 sec\n",
      "func:barrier_tree_fast args:[(100, 1, 100, 125, 0.06, 3, 1.1, 0.9090909090909091), {'opttype': 'C'}] took: 0.0026 sec\n",
      "\n",
      "Time Steps: 50\n",
      "func:barrier_tree_slow args:[(100, 1, 100, 125, 0.06, 50, 1.1, 0.9090909090909091), {'opttype': 'C'}] took: 0.0116 sec\n",
      "func:barrier_tree_fast args:[(100, 1, 100, 125, 0.06, 50, 1.1, 0.9090909090909091), {'opttype': 'C'}] took: 0.0107 sec\n",
      "\n",
      "Time Steps: 100\n",
      "func:barrier_tree_slow args:[(100, 1, 100, 125, 0.06, 100, 1.1, 0.9090909090909091), {'opttype': 'C'}] took: 0.0148 sec\n",
      "func:barrier_tree_fast args:[(100, 1, 100, 125, 0.06, 100, 1.1, 0.9090909090909091), {'opttype': 'C'}] took: 0.0057 sec\n",
      "\n",
      "Time Steps: 1000\n",
      "func:barrier_tree_slow args:[(100, 1, 100, 125, 0.06, 1000, 1.1, 0.9090909090909091), {'opttype': 'C'}] took: 0.6978 sec\n",
      "func:barrier_tree_fast args:[(100, 1, 100, 125, 0.06, 1000, 1.1, 0.9090909090909091), {'opttype': 'C'}] took: 0.0619 sec\n",
      "\n",
      "Time Steps: 5000\n",
      "func:barrier_tree_slow args:[(100, 1, 100, 125, 0.06, 5000, 1.1, 0.9090909090909091), {'opttype': 'C'}] took: 18.3857 sec\n",
      "func:barrier_tree_fast args:[(100, 1, 100, 125, 0.06, 5000, 1.1, 0.9090909090909091), {'opttype': 'C'}] took: 1.0130 sec\n"
     ]
    }
   ],
   "source": [
    "# Test and compare runtime for different tree sizes\n",
    "for N in [3, 50, 100, 1000, 5000]:\n",
    "    print(f\"\\nTime Steps: {N}\")\n",
    "    barrier_tree_slow(K, T, S0, H, r, N, u, d, opttype='C')\n",
    "    barrier_tree_fast(K, T, S0, H, r, N, u, d, opttype='C')"
   ]
  },
  {
   "cell_type": "markdown",
   "metadata": {},
   "source": [
    "## Conclusion\n",
    "\n",
    "Barrier options add complexity to the pricing process due to their path-dependent nature. \n",
    "\n",
    "### Key Takeaways:\n",
    "1. **Accuracy:**\n",
    "   - Both the slow and fast implementations yield the same option prices.\n",
    "2. **Performance:**\n",
    "   - The vectorized implementation (`barrier_tree_fast`) is significantly faster and more efficient.\n",
    "   - It becomes increasingly advantageous as the tree size grows.\n",
    "3. **Scalability:**\n",
    "   - The fast implementation scales well for larger problems, making it more suitable for real-world applications.\n",
    "\n",
    "This project demonstrates the efficiency of vectorized numerical methods in handling advanced financial computations."
   ]
  }
 ],
 "metadata": {
  "kernelspec": {
   "display_name": "Python 3 (ipykernel)",
   "language": "python",
   "name": "python3"
  },
  "language_info": {
   "codemirror_mode": {
    "name": "ipython",
    "version": 3
   },
   "file_extension": ".py",
   "mimetype": "text/x-python",
   "name": "python",
   "nbconvert_exporter": "python",
   "pygments_lexer": "ipython3",
   "version": "3.12.7"
  }
 },
 "nbformat": 4,
 "nbformat_minor": 4
}
